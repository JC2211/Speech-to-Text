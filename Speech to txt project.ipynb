{
 "cells": [
  {
   "cell_type": "code",
   "execution_count": 12,
   "metadata": {},
   "outputs": [],
   "source": [
    "import speech_recognition as sr\n",
    "import pyaudio"
   ]
  },
  {
   "cell_type": "code",
   "execution_count": 13,
   "metadata": {},
   "outputs": [],
   "source": [
    "def micro():\n",
    "    r=sr.Recognizer()\n",
    "    with sr.Microphone() as source:\n",
    "        print(\"say something\")\n",
    "        audo=r.listen(source)\n",
    "        print(\"time over thanks\")\n",
    "    try:\n",
    "        r1=r.recognize_google(audo)\n",
    "        print(\"text:\",r1)\n",
    "    except:\n",
    "        pass\n"
   ]
  },
  {
   "cell_type": "code",
   "execution_count": 14,
   "metadata": {},
   "outputs": [],
   "source": [
    "def aud():\n",
    "    s=input(\"Enter the file name here with a .wav extension:\")\n",
    "    r=sr.Recognizer()\n",
    "    i=sr.AudioFile(s)\n",
    "    with i as source:\n",
    "        audio=r.record(source)\n",
    "    type(audio)\n",
    "    sa=r.recognize_google(audio)\n",
    "    print(sa)"
   ]
  },
  {
   "cell_type": "code",
   "execution_count": 15,
   "metadata": {},
   "outputs": [
    {
     "name": "stdout",
     "output_type": "stream",
     "text": [
      "Choose an option from following\n",
      "1:Microphone input \n",
      " 2:Audio file input\n",
      "Enter option:1\n",
      "say something\n",
      "time over thanks\n",
      "text: testing speech to text project\n"
     ]
    }
   ],
   "source": [
    "print(\"Choose an option from following\")\n",
    "print(\"1:Microphone input \\n 2:Audio file input\")\n",
    "i=int(input(\"Enter option:\"))\n",
    "if(i==1):\n",
    "    micro()\n",
    "else:\n",
    "    aud()"
   ]
  },
  {
   "cell_type": "code",
   "execution_count": null,
   "metadata": {},
   "outputs": [],
   "source": []
  }
 ],
 "metadata": {
  "kernelspec": {
   "display_name": "Python 3",
   "language": "python",
   "name": "python3"
  },
  "language_info": {
   "codemirror_mode": {
    "name": "ipython",
    "version": 3
   },
   "file_extension": ".py",
   "mimetype": "text/x-python",
   "name": "python",
   "nbconvert_exporter": "python",
   "pygments_lexer": "ipython3",
   "version": "3.7.1"
  }
 },
 "nbformat": 4,
 "nbformat_minor": 2
}
